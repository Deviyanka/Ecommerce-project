{
 "cells": [
  {
   "cell_type": "code",
   "execution_count": 215,
   "id": "8a38287a-877f-4750-a69b-2a5e8a581506",
   "metadata": {},
   "outputs": [],
   "source": [
    "import pandas as pd\n",
    "import mysql.connector\n",
    "import numpy as np\n",
    "import seaborn as sns"
   ]
  },
  {
   "cell_type": "code",
   "execution_count": 3,
   "id": "5597ab60-bf21-4db6-8ef1-407b761a9a65",
   "metadata": {},
   "outputs": [
    {
     "name": "stdout",
     "output_type": "stream",
     "text": [
      "Requirement already satisfied: pandas in c:\\users\\user\\anaconda3\\lib\\site-packages (2.2.2)\n",
      "Requirement already satisfied: numpy>=1.26.0 in c:\\users\\user\\anaconda3\\lib\\site-packages (from pandas) (1.26.4)\n",
      "Requirement already satisfied: python-dateutil>=2.8.2 in c:\\users\\user\\anaconda3\\lib\\site-packages (from pandas) (2.9.0.post0)\n",
      "Requirement already satisfied: pytz>=2020.1 in c:\\users\\user\\anaconda3\\lib\\site-packages (from pandas) (2024.1)\n",
      "Requirement already satisfied: tzdata>=2022.7 in c:\\users\\user\\anaconda3\\lib\\site-packages (from pandas) (2023.3)\n",
      "Requirement already satisfied: six>=1.5 in c:\\users\\user\\anaconda3\\lib\\site-packages (from python-dateutil>=2.8.2->pandas) (1.16.0)\n",
      "Note: you may need to restart the kernel to use updated packages.\n"
     ]
    }
   ],
   "source": [
    "pip install pandas\n"
   ]
  },
  {
   "cell_type": "code",
   "execution_count": 5,
   "id": "7b103ed1-08b8-4657-92cb-4a7d5653027e",
   "metadata": {},
   "outputs": [
    {
     "name": "stdout",
     "output_type": "stream",
     "text": [
      "Requirement already satisfied: matplotlib in c:\\users\\user\\anaconda3\\lib\\site-packages (3.9.2)Note: you may need to restart the kernel to use updated packages.\n",
      "\n",
      "Requirement already satisfied: contourpy>=1.0.1 in c:\\users\\user\\anaconda3\\lib\\site-packages (from matplotlib) (1.2.0)\n",
      "Requirement already satisfied: cycler>=0.10 in c:\\users\\user\\anaconda3\\lib\\site-packages (from matplotlib) (0.11.0)\n",
      "Requirement already satisfied: fonttools>=4.22.0 in c:\\users\\user\\anaconda3\\lib\\site-packages (from matplotlib) (4.51.0)\n",
      "Requirement already satisfied: kiwisolver>=1.3.1 in c:\\users\\user\\anaconda3\\lib\\site-packages (from matplotlib) (1.4.4)\n",
      "Requirement already satisfied: numpy>=1.23 in c:\\users\\user\\anaconda3\\lib\\site-packages (from matplotlib) (1.26.4)\n",
      "Requirement already satisfied: packaging>=20.0 in c:\\users\\user\\anaconda3\\lib\\site-packages (from matplotlib) (24.1)\n",
      "Requirement already satisfied: pillow>=8 in c:\\users\\user\\anaconda3\\lib\\site-packages (from matplotlib) (10.4.0)\n",
      "Requirement already satisfied: pyparsing>=2.3.1 in c:\\users\\user\\anaconda3\\lib\\site-packages (from matplotlib) (3.1.2)\n",
      "Requirement already satisfied: python-dateutil>=2.7 in c:\\users\\user\\anaconda3\\lib\\site-packages (from matplotlib) (2.9.0.post0)\n",
      "Requirement already satisfied: six>=1.5 in c:\\users\\user\\anaconda3\\lib\\site-packages (from python-dateutil>=2.7->matplotlib) (1.16.0)\n"
     ]
    }
   ],
   "source": [
    "pip install matplotlib"
   ]
  },
  {
   "cell_type": "code",
   "execution_count": 7,
   "id": "6104bc47-bcfa-4faa-a44f-97421c05a0a4",
   "metadata": {},
   "outputs": [
    {
     "name": "stdout",
     "output_type": "stream",
     "text": [
      "Requirement already satisfied: seaborn in c:\\users\\user\\anaconda3\\lib\\site-packages (0.13.2)\n",
      "Requirement already satisfied: numpy!=1.24.0,>=1.20 in c:\\users\\user\\anaconda3\\lib\\site-packages (from seaborn) (1.26.4)\n",
      "Requirement already satisfied: pandas>=1.2 in c:\\users\\user\\anaconda3\\lib\\site-packages (from seaborn) (2.2.2)\n",
      "Requirement already satisfied: matplotlib!=3.6.1,>=3.4 in c:\\users\\user\\anaconda3\\lib\\site-packages (from seaborn) (3.9.2)\n",
      "Requirement already satisfied: contourpy>=1.0.1 in c:\\users\\user\\anaconda3\\lib\\site-packages (from matplotlib!=3.6.1,>=3.4->seaborn) (1.2.0)\n",
      "Requirement already satisfied: cycler>=0.10 in c:\\users\\user\\anaconda3\\lib\\site-packages (from matplotlib!=3.6.1,>=3.4->seaborn) (0.11.0)\n",
      "Requirement already satisfied: fonttools>=4.22.0 in c:\\users\\user\\anaconda3\\lib\\site-packages (from matplotlib!=3.6.1,>=3.4->seaborn) (4.51.0)\n",
      "Requirement already satisfied: kiwisolver>=1.3.1 in c:\\users\\user\\anaconda3\\lib\\site-packages (from matplotlib!=3.6.1,>=3.4->seaborn) (1.4.4)\n",
      "Requirement already satisfied: packaging>=20.0 in c:\\users\\user\\anaconda3\\lib\\site-packages (from matplotlib!=3.6.1,>=3.4->seaborn) (24.1)\n",
      "Requirement already satisfied: pillow>=8 in c:\\users\\user\\anaconda3\\lib\\site-packages (from matplotlib!=3.6.1,>=3.4->seaborn) (10.4.0)\n",
      "Requirement already satisfied: pyparsing>=2.3.1 in c:\\users\\user\\anaconda3\\lib\\site-packages (from matplotlib!=3.6.1,>=3.4->seaborn) (3.1.2)\n",
      "Requirement already satisfied: python-dateutil>=2.7 in c:\\users\\user\\anaconda3\\lib\\site-packages (from matplotlib!=3.6.1,>=3.4->seaborn) (2.9.0.post0)\n",
      "Requirement already satisfied: pytz>=2020.1 in c:\\users\\user\\anaconda3\\lib\\site-packages (from pandas>=1.2->seaborn) (2024.1)\n",
      "Requirement already satisfied: tzdata>=2022.7 in c:\\users\\user\\anaconda3\\lib\\site-packages (from pandas>=1.2->seaborn) (2023.3)\n",
      "Requirement already satisfied: six>=1.5 in c:\\users\\user\\anaconda3\\lib\\site-packages (from python-dateutil>=2.7->matplotlib!=3.6.1,>=3.4->seaborn) (1.16.0)\n",
      "Note: you may need to restart the kernel to use updated packages.\n"
     ]
    }
   ],
   "source": [
    "pip install seaborn"
   ]
  },
  {
   "cell_type": "code",
   "execution_count": 19,
   "id": "39f97c81-bc73-4570-b749-e0223f54cefb",
   "metadata": {},
   "outputs": [
    {
     "name": "stdout",
     "output_type": "stream",
     "text": [
      "Requirement already satisfied: mysql-connector-python in c:\\users\\user\\anaconda3\\lib\\site-packages (9.2.0)\n",
      "Note: you may need to restart the kernel to use updated packages.\n"
     ]
    }
   ],
   "source": [
    "pip install mysql-connector-python"
   ]
  },
  {
   "cell_type": "code",
   "execution_count": 27,
   "id": "00e1972e-3873-42fd-88be-664df2793362",
   "metadata": {},
   "outputs": [],
   "source": [
    "# List of CSV files and their corresponding table names\n",
    "csv_files = [\n",
    "    ('customers.csv', 'customers'),\n",
    "    ('orders.csv', 'orders'),\n",
    "    ('sellers.csv', 'sellers'),\n",
    "    ('products.csv', 'products'),\n",
    "    ('geolocation.csv', 'geolocation'),\n",
    "    ('payments.csv', 'payments'),\n",
    "    ('order_items.csv', 'order_items')# Added payments.csv for specific handling\n",
    "]\n"
   ]
  },
  {
   "cell_type": "code",
   "execution_count": 29,
   "id": "d6e1aae3-b572-49ee-8055-f887d9fa5a1e",
   "metadata": {},
   "outputs": [],
   "source": [
    "# Connect to the MySQL database\n",
    "conn = mysql.connector.connect(\n",
    "    host='localhost',\n",
    "    user='root',\n",
    "    password='DEVI19@7171',\n",
    "    database='ecommercee'\n",
    ")\n",
    "cursor = conn.cursor()"
   ]
  },
  {
   "cell_type": "code",
   "execution_count": 31,
   "id": "d2d5ff5c-38e9-4274-a7ed-8377d5667c77",
   "metadata": {},
   "outputs": [],
   "source": [
    "# Folder containing the CSV files\n",
    "folder_path = r\"C:\\Users\\user\\OneDrive\\Documents\\Data Analysis Project\""
   ]
  },
  {
   "cell_type": "code",
   "execution_count": 33,
   "id": "52f4a8ac-d454-4a57-b16a-62239e572438",
   "metadata": {},
   "outputs": [],
   "source": [
    "def get_sql_type(dtype):\n",
    "    if pd.api.types.is_integer_dtype(dtype):\n",
    "        return 'INT'\n",
    "    elif pd.api.types.is_float_dtype(dtype):\n",
    "        return 'FLOAT'\n",
    "    elif pd.api.types.is_bool_dtype(dtype):\n",
    "        return 'BOOLEAN'\n",
    "    elif pd.api.types.is_datetime64_any_dtype(dtype):\n",
    "        return 'DATETIME'\n",
    "    else:\n",
    "        return 'TEXT'"
   ]
  },
  {
   "cell_type": "code",
   "execution_count": 35,
   "id": "1ade77a9-9d79-4d19-995a-7d070806ea79",
   "metadata": {},
   "outputs": [
    {
     "name": "stdout",
     "output_type": "stream",
     "text": [
      "Processing customers.csv\n",
      "NaN values before replacement:\n",
      "customer_id                 0\n",
      "customer_unique_id          0\n",
      "customer_zip_code_prefix    0\n",
      "customer_city               0\n",
      "customer_state              0\n",
      "dtype: int64\n",
      "\n",
      "Processing orders.csv\n",
      "NaN values before replacement:\n",
      "order_id                            0\n",
      "customer_id                         0\n",
      "order_status                        0\n",
      "order_purchase_timestamp            0\n",
      "order_approved_at                 160\n",
      "order_delivered_carrier_date     1783\n",
      "order_delivered_customer_date    2965\n",
      "order_estimated_delivery_date       0\n",
      "dtype: int64\n",
      "\n",
      "Processing sellers.csv\n",
      "NaN values before replacement:\n",
      "seller_id                 0\n",
      "seller_zip_code_prefix    0\n",
      "seller_city               0\n",
      "seller_state              0\n",
      "dtype: int64\n",
      "\n",
      "Processing products.csv\n",
      "NaN values before replacement:\n",
      "product_id                      0\n",
      "product category              610\n",
      "product_name_length           610\n",
      "product_description_length    610\n",
      "product_photos_qty            610\n",
      "product_weight_g                2\n",
      "product_length_cm               2\n",
      "product_height_cm               2\n",
      "product_width_cm                2\n",
      "dtype: int64\n",
      "\n",
      "Processing geolocation.csv\n",
      "NaN values before replacement:\n",
      "geolocation_zip_code_prefix    0\n",
      "geolocation_lat                0\n",
      "geolocation_lng                0\n",
      "geolocation_city               0\n",
      "geolocation_state              0\n",
      "dtype: int64\n",
      "\n",
      "Processing payments.csv\n",
      "NaN values before replacement:\n",
      "order_id                0\n",
      "payment_sequential      0\n",
      "payment_type            0\n",
      "payment_installments    0\n",
      "payment_value           0\n",
      "dtype: int64\n",
      "\n",
      "Processing order_items.csv\n",
      "NaN values before replacement:\n",
      "order_id               0\n",
      "order_item_id          0\n",
      "product_id             0\n",
      "seller_id              0\n",
      "shipping_limit_date    0\n",
      "price                  0\n",
      "freight_value          0\n",
      "dtype: int64\n",
      "\n"
     ]
    }
   ],
   "source": [
    "for csv_file, table_name in csv_files:\n",
    "    file_path = os.path.join(folder_path, csv_file)\n",
    "    \n",
    "    # Read the CSV file into a pandas DataFrame\n",
    "    df = pd.read_csv(file_path)\n",
    "    \n",
    "    # Replace NaN with None to handle SQL NULL\n",
    "    df = df.where(pd.notnull(df), None)\n",
    "    \n",
    "    # Debugging: Check for NaN values\n",
    "    print(f\"Processing {csv_file}\")\n",
    "    print(f\"NaN values before replacement:\\n{df.isnull().sum()}\\n\")\n",
    "\n",
    "# Clean column names\n",
    "    df.columns = [col.replace(' ', '_').replace('-', '_').replace('.', '_') for col in df.columns]\n",
    "\n",
    "    # Generate the CREATE TABLE statement with appropriate data types\n",
    "    columns = ', '.join([f'`{col}` {get_sql_type(df[col].dtype)}' for col in df.columns])\n",
    "    create_table_query = f'CREATE TABLE IF NOT EXISTS `{table_name}` ({columns})'\n",
    "    cursor.execute(create_table_query)\n",
    "\n",
    "    # Insert DataFrame data into the MySQL table\n",
    "    for _, row in df.iterrows():\n",
    "        # Convert row to tuple and handle NaN/None explicitly\n",
    "        values = tuple(None if pd.isna(x) else x for x in row)\n",
    "        sql = f\"INSERT INTO `{table_name}` ({', '.join(['`' + col + '`' for col in df.columns])}) VALUES ({', '.join(['%s'] * len(row))})\"\n",
    "        cursor.execute(sql, values)\n",
    "    # Commit the transaction for the current CSV file\n",
    "    conn.commit()\n"
   ]
  },
  {
   "cell_type": "code",
   "execution_count": 37,
   "id": "c89ced66-c9d6-4ad3-a73a-ace14d1659ce",
   "metadata": {},
   "outputs": [],
   "source": [
    "# Close the connection\n",
    "conn.close()"
   ]
  },
  {
   "cell_type": "code",
   "execution_count": 39,
   "id": "0e4d04c9-e62b-42eb-8f58-a18a3c7a32cb",
   "metadata": {},
   "outputs": [],
   "source": [
    "import pandas as pd\n",
    "import matplotlib.pyplot as plt\n",
    "import seaborn as sns\n",
    "import mysql.connector"
   ]
  },
  {
   "cell_type": "code",
   "execution_count": 41,
   "id": "fc029d6d-7dd5-4e06-b200-9eda5e8426d6",
   "metadata": {},
   "outputs": [],
   "source": [
    "db = mysql.connector.connect(host = \"localhost\",\n",
    "                             username = \"root\",\n",
    "                             password = \"DEVI19@7171\",\n",
    "                             database = \"ecommercee\")\n",
    "\n",
    "cur = db.cursor()"
   ]
  },
  {
   "cell_type": "markdown",
   "id": "70ea5dbc-c18b-4f13-be49-45d259b5056b",
   "metadata": {},
   "source": [
    "## Queries\n",
    "### 1. List all unique cities where customers are located"
   ]
  },
  {
   "cell_type": "code",
   "execution_count": 106,
   "id": "e71297cd-6743-457f-b369-24609d0108f2",
   "metadata": {},
   "outputs": [
    {
     "data": {
      "text/html": [
       "<div>\n",
       "<style scoped>\n",
       "    .dataframe tbody tr th:only-of-type {\n",
       "        vertical-align: middle;\n",
       "    }\n",
       "\n",
       "    .dataframe tbody tr th {\n",
       "        vertical-align: top;\n",
       "    }\n",
       "\n",
       "    .dataframe thead th {\n",
       "        text-align: right;\n",
       "    }\n",
       "</style>\n",
       "<table border=\"1\" class=\"dataframe\">\n",
       "  <thead>\n",
       "    <tr style=\"text-align: right;\">\n",
       "      <th></th>\n",
       "      <th>City</th>\n",
       "    </tr>\n",
       "  </thead>\n",
       "  <tbody>\n",
       "    <tr>\n",
       "      <th>0</th>\n",
       "      <td>franca</td>\n",
       "    </tr>\n",
       "    <tr>\n",
       "      <th>1</th>\n",
       "      <td>sao bernardo do campo</td>\n",
       "    </tr>\n",
       "    <tr>\n",
       "      <th>2</th>\n",
       "      <td>sao paulo</td>\n",
       "    </tr>\n",
       "    <tr>\n",
       "      <th>3</th>\n",
       "      <td>mogi das cruzes</td>\n",
       "    </tr>\n",
       "    <tr>\n",
       "      <th>4</th>\n",
       "      <td>campinas</td>\n",
       "    </tr>\n",
       "  </tbody>\n",
       "</table>\n",
       "</div>"
      ],
      "text/plain": [
       "                    City\n",
       "0                 franca\n",
       "1  sao bernardo do campo\n",
       "2              sao paulo\n",
       "3        mogi das cruzes\n",
       "4               campinas"
      ]
     },
     "execution_count": 106,
     "metadata": {},
     "output_type": "execute_result"
    }
   ],
   "source": [
    "query = \"\"\"select distinct(customer_city) from customers \"\"\"\n",
    "\n",
    "cur.execute(query)\n",
    "\n",
    "data = cur.fetchall()\n",
    "\n",
    "df = pd.DataFrame(data, columns = [\"City\"])\n",
    "\n",
    "df.head(5)"
   ]
  },
  {
   "cell_type": "markdown",
   "id": "c3a37ba1-b90e-4bd0-8b67-19540263375c",
   "metadata": {},
   "source": [
    "### 2. Count the number of orders placed in 2017"
   ]
  },
  {
   "cell_type": "code",
   "execution_count": 54,
   "id": "e659bcac-f96a-415b-84bf-b4aaf698acf5",
   "metadata": {},
   "outputs": [
    {
     "data": {
      "text/plain": [
       "('total orders placed in 2017 are', 45101)"
      ]
     },
     "execution_count": 54,
     "metadata": {},
     "output_type": "execute_result"
    }
   ],
   "source": [
    "query = \"\"\"select count(order_id) from orders where year(order_purchase_timestamp) = 2017 \"\"\"\n",
    "\n",
    "cur.execute(query)\n",
    "\n",
    "data = cur.fetchall()\n",
    "\n",
    "\"total orders placed in 2017 are\", data[0][0]"
   ]
  },
  {
   "cell_type": "markdown",
   "id": "12b85c99-96a4-4e8c-912c-05a34ff672d9",
   "metadata": {},
   "source": [
    "### 3. Find the total sales per category"
   ]
  },
  {
   "cell_type": "code",
   "execution_count": 71,
   "id": "901e98c9-2787-4d2f-a1c6-13f0f73bed41",
   "metadata": {},
   "outputs": [
    {
     "data": {
      "text/html": [
       "<div>\n",
       "<style scoped>\n",
       "    .dataframe tbody tr th:only-of-type {\n",
       "        vertical-align: middle;\n",
       "    }\n",
       "\n",
       "    .dataframe tbody tr th {\n",
       "        vertical-align: top;\n",
       "    }\n",
       "\n",
       "    .dataframe thead th {\n",
       "        text-align: right;\n",
       "    }\n",
       "</style>\n",
       "<table border=\"1\" class=\"dataframe\">\n",
       "  <thead>\n",
       "    <tr style=\"text-align: right;\">\n",
       "      <th></th>\n",
       "      <th>Category</th>\n",
       "      <th>Sales</th>\n",
       "    </tr>\n",
       "  </thead>\n",
       "  <tbody>\n",
       "    <tr>\n",
       "      <th>0</th>\n",
       "      <td>PERFUMERY</td>\n",
       "      <td>506738.66</td>\n",
       "    </tr>\n",
       "    <tr>\n",
       "      <th>1</th>\n",
       "      <td>FURNITURE DECORATION</td>\n",
       "      <td>1430176.39</td>\n",
       "    </tr>\n",
       "    <tr>\n",
       "      <th>2</th>\n",
       "      <td>TELEPHONY</td>\n",
       "      <td>486882.05</td>\n",
       "    </tr>\n",
       "    <tr>\n",
       "      <th>3</th>\n",
       "      <td>BED TABLE BATH</td>\n",
       "      <td>1712553.67</td>\n",
       "    </tr>\n",
       "    <tr>\n",
       "      <th>4</th>\n",
       "      <td>AUTOMOTIVE</td>\n",
       "      <td>852294.33</td>\n",
       "    </tr>\n",
       "    <tr>\n",
       "      <th>...</th>\n",
       "      <td>...</td>\n",
       "      <td>...</td>\n",
       "    </tr>\n",
       "    <tr>\n",
       "      <th>69</th>\n",
       "      <td>CDS MUSIC DVDS</td>\n",
       "      <td>1199.43</td>\n",
       "    </tr>\n",
       "    <tr>\n",
       "      <th>70</th>\n",
       "      <td>LA CUISINE</td>\n",
       "      <td>2913.53</td>\n",
       "    </tr>\n",
       "    <tr>\n",
       "      <th>71</th>\n",
       "      <td>FASHION CHILDREN'S CLOTHING</td>\n",
       "      <td>785.67</td>\n",
       "    </tr>\n",
       "    <tr>\n",
       "      <th>72</th>\n",
       "      <td>PC GAMER</td>\n",
       "      <td>2174.43</td>\n",
       "    </tr>\n",
       "    <tr>\n",
       "      <th>73</th>\n",
       "      <td>INSURANCE AND SERVICES</td>\n",
       "      <td>324.51</td>\n",
       "    </tr>\n",
       "  </tbody>\n",
       "</table>\n",
       "<p>74 rows × 2 columns</p>\n",
       "</div>"
      ],
      "text/plain": [
       "                       Category       Sales\n",
       "0                     PERFUMERY   506738.66\n",
       "1          FURNITURE DECORATION  1430176.39\n",
       "2                     TELEPHONY   486882.05\n",
       "3                BED TABLE BATH  1712553.67\n",
       "4                    AUTOMOTIVE   852294.33\n",
       "..                          ...         ...\n",
       "69               CDS MUSIC DVDS     1199.43\n",
       "70                   LA CUISINE     2913.53\n",
       "71  FASHION CHILDREN'S CLOTHING      785.67\n",
       "72                     PC GAMER     2174.43\n",
       "73       INSURANCE AND SERVICES      324.51\n",
       "\n",
       "[74 rows x 2 columns]"
      ]
     },
     "execution_count": 71,
     "metadata": {},
     "output_type": "execute_result"
    }
   ],
   "source": [
    "query = \"\"\"select upper(products.product_category) category, \n",
    "round(sum(payments.payment_value),2) sales\n",
    "from products join order_items\n",
    "on products.product_id = order_items.product_id\n",
    "join payments\n",
    "on payments.order_id = order_items.order_id\n",
    "group by category\"\"\"\n",
    "\n",
    "cur.execute(query)\n",
    "\n",
    "data = cur.fetchall()\n",
    "\n",
    "df = pd.DataFrame(data, columns=[\"Category\", \"Sales\"])\n",
    "df"
   ]
  },
  {
   "cell_type": "markdown",
   "id": "4ed42d47-8fd8-4a78-be99-bde591664f02",
   "metadata": {},
   "source": [
    "### 4. Calculate the percentage of orders that were paid in installments."
   ]
  },
  {
   "cell_type": "code",
   "execution_count": 81,
   "id": "4b531c4d-7493-4451-8a86-771310349666",
   "metadata": {},
   "outputs": [
    {
     "data": {
      "text/plain": [
       "('the percentage of orders that were paid in installments is',\n",
       " Decimal('99.9981'))"
      ]
     },
     "execution_count": 81,
     "metadata": {},
     "output_type": "execute_result"
    }
   ],
   "source": [
    "query = \"\"\"select (sum(case when payment_installments >= 1 then 1 else 0 end))/count(*)*100\n",
    "from payments\"\"\"\n",
    "\n",
    "cur.execute(query)\n",
    "\n",
    "data = cur.fetchall()\n",
    "\n",
    "\"the percentage of orders that were paid in installments is\", data[0][0]"
   ]
  },
  {
   "cell_type": "markdown",
   "id": "68f2c7ac-8f32-4fa9-993d-498dcf5aec33",
   "metadata": {},
   "source": [
    "### 5. Count the number of customers from each state"
   ]
  },
  {
   "cell_type": "code",
   "execution_count": 143,
   "id": "d5f8467b-5f17-48f9-9e84-4de301ab002c",
   "metadata": {},
   "outputs": [],
   "source": [
    "query = \"\"\"select customer_state, count(customer_id)\n",
    "from customers group by customer_state\"\"\"\n",
    "\n",
    "cur.execute(query)\n",
    "\n",
    "data = cur.fetchall()\n",
    "\n",
    "df = pd.DataFrame(data, columns = [\"state\", \"customer_count\"])\n",
    "\n",
    "df = df.sort_values(by = \"customer_count\", ascending = False)\n"
   ]
  },
  {
   "cell_type": "code",
   "execution_count": 149,
   "id": "5c7a042e-0b17-4bf1-84c6-657f8163755d",
   "metadata": {},
   "outputs": [
    {
     "data": {
      "image/png": "[encoded data removed]",
      "text/plain": [
       "<Figure size 800x300 with 1 Axes>"
      ]
     },
     "metadata": {},
     "output_type": "display_data"
    }
   ],
   "source": [
    "plt.figure(figsize = (8,3))        # To give size to chart\n",
    "plt.bar(df[\"state\"], df[\"customer_count\"])\n",
    "plt.xticks(rotation = 90)     # To show the x axis name clearly\n",
    "plt.xlabel(\"states\")\n",
    "plt.ylabel(\"customer_count\")\n",
    "plt.title(\"Count of customers by States\" )\n",
    "plt.show()\n"
   ]
  },
  {
   "cell_type": "markdown",
   "id": "35c0b76a-ad61-4c38-9b71-fb6c878a8d93",
   "metadata": {},
   "source": [
    "### 6. Calculate the number of orders per month in 2018"
   ]
  },
  {
   "cell_type": "code",
   "execution_count": 157,
   "id": "74599f10-65c7-4fe5-a493-bd4742ced822",
   "metadata": {},
   "outputs": [
    {
     "data": {
      "text/plain": [
       "<function matplotlib.pyplot.show(close=None, block=None)>"
      ]
     },
     "execution_count": 157,
     "metadata": {},
     "output_type": "execute_result"
    },
    {
     "data": {
      "image/png": "[encoded data removed]",
      "text/plain": [
       "<Figure size 640x480 with 1 Axes>"
      ]
     },
     "metadata": {},
     "output_type": "display_data"
    }
   ],
   "source": [
    "query = \"\"\"select monthname(order_purchase_timestamp) months, count(order_id) order_count\n",
    "from orders where year(order_purchase_timestamp) = 2018\n",
    "group by months \"\"\"\n",
    "\n",
    "cur.execute(query)\n",
    "\n",
    "data = cur.fetchall()\n",
    "\n",
    "df = pd.DataFrame(data, columns = [\"months\", \"order_count\"])\n",
    "df\n",
    "o = [\"January\", \"February\", \"March\", \"April\", \"May\", \"June\", \"July\", \"August\", \"September\", \"October\", \"November\", \"December\"]\n",
    "\n",
    "# plt.bar(df[\"months\"], df[\"order_count\"])\n",
    "# plt.show\n",
    "\n",
    "ax = sns.barplot(x = df[\"months\"],y = df[\"order_count\"], data = df, order = o, color = \"violet\"  )\n",
    "plt.xticks(rotation = 45)\n",
    "ax.bar_label(ax.containers[0])\n",
    "plt.title(\"Count of orders by Months in 2018\")\n",
    "plt.show\n"
   ]
  },
  {
   "cell_type": "markdown",
   "id": "179e3f82-139d-4560-93cd-934be607145c",
   "metadata": {},
   "source": [
    "### 7. Find the average number of products per order, grouped by customer city"
   ]
  },
  {
   "cell_type": "code",
   "execution_count": 176,
   "id": "b9248fdd-624d-44a8-8bf9-5ee9401fa5db",
   "metadata": {},
   "outputs": [
    {
     "data": {
      "text/html": [
       "<div>\n",
       "<style scoped>\n",
       "    .dataframe tbody tr th:only-of-type {\n",
       "        vertical-align: middle;\n",
       "    }\n",
       "\n",
       "    .dataframe tbody tr th {\n",
       "        vertical-align: top;\n",
       "    }\n",
       "\n",
       "    .dataframe thead th {\n",
       "        text-align: right;\n",
       "    }\n",
       "</style>\n",
       "<table border=\"1\" class=\"dataframe\">\n",
       "  <thead>\n",
       "    <tr style=\"text-align: right;\">\n",
       "      <th></th>\n",
       "      <th>customer_city</th>\n",
       "      <th>average products per order</th>\n",
       "    </tr>\n",
       "  </thead>\n",
       "  <tbody>\n",
       "    <tr>\n",
       "      <th>0</th>\n",
       "      <td>sonora</td>\n",
       "      <td>1.00</td>\n",
       "    </tr>\n",
       "    <tr>\n",
       "      <th>1</th>\n",
       "      <td>porteiras</td>\n",
       "      <td>1.00</td>\n",
       "    </tr>\n",
       "    <tr>\n",
       "      <th>2</th>\n",
       "      <td>itabi</td>\n",
       "      <td>1.00</td>\n",
       "    </tr>\n",
       "    <tr>\n",
       "      <th>3</th>\n",
       "      <td>silvanopolis</td>\n",
       "      <td>1.00</td>\n",
       "    </tr>\n",
       "    <tr>\n",
       "      <th>4</th>\n",
       "      <td>salmourao</td>\n",
       "      <td>1.00</td>\n",
       "    </tr>\n",
       "  </tbody>\n",
       "</table>\n",
       "</div>"
      ],
      "text/plain": [
       "  customer_city average products per order\n",
       "0        sonora                       1.00\n",
       "1     porteiras                       1.00\n",
       "2         itabi                       1.00\n",
       "3  silvanopolis                       1.00\n",
       "4     salmourao                       1.00"
      ]
     },
     "execution_count": 176,
     "metadata": {},
     "output_type": "execute_result"
    }
   ],
   "source": [
    "query = \"\"\"with count_per_order as\n",
    "(select orders.order_id, orders.customer_id, count(order_items.order_id) as oc\n",
    "from orders join order_items\n",
    "on orders.order_id = order_items.order_id\n",
    "group by orders.order_id, orders.customer_id)\n",
    "\n",
    "select customers.customer_city, round(avg(count_per_order.oc),2) average_orders\n",
    "from customers join count_per_order\n",
    "on customers.customer_id = count_per_order.customer_id\n",
    "group by customers.customer_city order by average_orders\n",
    "\"\"\"\n",
    "\n",
    "cur.execute(query)\n",
    "\n",
    "data = cur.fetchall()\n",
    "\n",
    "df = pd.DataFrame(data, columns = [\"customer_city\", \"average products per order\"])\n",
    "\n",
    "df.head(5)"
   ]
  },
  {
   "cell_type": "markdown",
   "id": "7a5f4484-805d-4e8d-9c16-32b5a8c2a6bf",
   "metadata": {},
   "source": [
    "### 8. Calculate the percentage of total revenue contributed by each product category"
   ]
  },
  {
   "cell_type": "code",
   "execution_count": 181,
   "id": "746635eb-ae71-4b02-a4a1-61c99dcb5387",
   "metadata": {},
   "outputs": [
    {
     "data": {
      "text/html": [
       "<div>\n",
       "<style scoped>\n",
       "    .dataframe tbody tr th:only-of-type {\n",
       "        vertical-align: middle;\n",
       "    }\n",
       "\n",
       "    .dataframe tbody tr th {\n",
       "        vertical-align: top;\n",
       "    }\n",
       "\n",
       "    .dataframe thead th {\n",
       "        text-align: right;\n",
       "    }\n",
       "</style>\n",
       "<table border=\"1\" class=\"dataframe\">\n",
       "  <thead>\n",
       "    <tr style=\"text-align: right;\">\n",
       "      <th></th>\n",
       "      <th>Category</th>\n",
       "      <th>Percentage distribution</th>\n",
       "    </tr>\n",
       "  </thead>\n",
       "  <tbody>\n",
       "    <tr>\n",
       "      <th>0</th>\n",
       "      <td>BED TABLE BATH</td>\n",
       "      <td>10.70</td>\n",
       "    </tr>\n",
       "    <tr>\n",
       "      <th>1</th>\n",
       "      <td>HEALTH BEAUTY</td>\n",
       "      <td>10.35</td>\n",
       "    </tr>\n",
       "    <tr>\n",
       "      <th>2</th>\n",
       "      <td>COMPUTER ACCESSORIES</td>\n",
       "      <td>9.90</td>\n",
       "    </tr>\n",
       "    <tr>\n",
       "      <th>3</th>\n",
       "      <td>FURNITURE DECORATION</td>\n",
       "      <td>8.93</td>\n",
       "    </tr>\n",
       "    <tr>\n",
       "      <th>4</th>\n",
       "      <td>WATCHES PRESENT</td>\n",
       "      <td>8.93</td>\n",
       "    </tr>\n",
       "    <tr>\n",
       "      <th>5</th>\n",
       "      <td>SPORT LEISURE</td>\n",
       "      <td>8.70</td>\n",
       "    </tr>\n",
       "    <tr>\n",
       "      <th>6</th>\n",
       "      <td>HOUSEWARES</td>\n",
       "      <td>6.84</td>\n",
       "    </tr>\n",
       "    <tr>\n",
       "      <th>7</th>\n",
       "      <td>AUTOMOTIVE</td>\n",
       "      <td>5.32</td>\n",
       "    </tr>\n",
       "    <tr>\n",
       "      <th>8</th>\n",
       "      <td>GARDEN TOOLS</td>\n",
       "      <td>5.24</td>\n",
       "    </tr>\n",
       "    <tr>\n",
       "      <th>9</th>\n",
       "      <td>COOL STUFF</td>\n",
       "      <td>4.87</td>\n",
       "    </tr>\n",
       "  </tbody>\n",
       "</table>\n",
       "</div>"
      ],
      "text/plain": [
       "               Category  Percentage distribution\n",
       "0        BED TABLE BATH                    10.70\n",
       "1         HEALTH BEAUTY                    10.35\n",
       "2  COMPUTER ACCESSORIES                     9.90\n",
       "3  FURNITURE DECORATION                     8.93\n",
       "4       WATCHES PRESENT                     8.93\n",
       "5         SPORT LEISURE                     8.70\n",
       "6            HOUSEWARES                     6.84\n",
       "7            AUTOMOTIVE                     5.32\n",
       "8          GARDEN TOOLS                     5.24\n",
       "9            COOL STUFF                     4.87"
      ]
     },
     "execution_count": 181,
     "metadata": {},
     "output_type": "execute_result"
    }
   ],
   "source": [
    "query = \"\"\"select upper(products.product_category) category, \n",
    "round((sum(payments.payment_value)/(select sum(payment_value) from payments))*100,2) sales_percentage\n",
    "from products join order_items\n",
    "on products.product_id = order_items.product_id\n",
    "join payments\n",
    "on payments.order_id = order_items.order_id\n",
    "group by category order by sales_percentage desc;\n",
    "\n",
    "\n",
    "\"\"\"\n",
    "\n",
    "cur.execute(query)\n",
    "\n",
    "data = cur.fetchall()\n",
    "\n",
    "df = pd.DataFrame(data, columns=[\"Category\", \"Percentage distribution\"])\n",
    "df.head(10)"
   ]
  },
  {
   "cell_type": "markdown",
   "id": "b4b49aa9-fcea-4d10-a2a3-3a52d7b272b7",
   "metadata": {},
   "source": [
    "### 9. Identify the correlation between product price and the number of times a product has been purchased."
   ]
  },
  {
   "cell_type": "code",
   "execution_count": 201,
   "id": "dbc54bcd-2074-443c-9512-c4fcabc15b80",
   "metadata": {},
   "outputs": [
    {
     "name": "stdout",
     "output_type": "stream",
     "text": [
      "The correlation is -0.10631514167157567\n"
     ]
    }
   ],
   "source": [
    " query = \"\"\"select products.product_category,\n",
    " count(order_items.product_id),\n",
    " round(avg(order_items.price),2)\n",
    " from products join order_items\n",
    " on products.product_id = order_items.product_id\n",
    " group by products.product_category\n",
    "\n",
    "\n",
    "\"\"\"\n",
    "\n",
    "cur.execute(query)\n",
    "\n",
    "data = cur.fetchall()\n",
    "\n",
    "df = pd.DataFrame(data, columns=[\"Category\", \"order_count\",\"price\"])\n",
    "arr1 = df[\"order_count\"]\n",
    "arr2 = df[\"price\"]\n",
    "\n",
    "a = np.corrcoef([arr1,arr2])\n",
    "print(\"The correlation is\", a[0][-1] )"
   ]
  },
  {
   "cell_type": "markdown",
   "id": "06dbb726-9971-4201-96a2-f50045c7afea",
   "metadata": {},
   "source": [
    "### 10. Calculate the total revenue generated by each seller, and rank them by revenue."
   ]
  },
  {
   "cell_type": "code",
   "execution_count": 222,
   "id": "7371a0a0-3ba2-42a8-b6c9-e030d49c441e",
   "metadata": {},
   "outputs": [
    {
     "data": {
      "image/png": "[encoded data removed]",
      "text/plain": [
       "<Figure size 640x480 with 1 Axes>"
      ]
     },
     "metadata": {},
     "output_type": "display_data"
    }
   ],
   "source": [
    "query = \"\"\"select *, dense_rank() over(order by revenue desc) as rn from\n",
    "(select order_items.seller_id, sum(payments.payment_value)\n",
    "revenue from order_items join payments\n",
    "on order_items.order_id = payments.order_id\n",
    "group by order_items.seller_id) as a\n",
    "\n",
    "\n",
    "\"\"\"\n",
    "\n",
    "cur.execute(query)\n",
    "\n",
    "data = cur.fetchall()\n",
    "df = pd.DataFrame(data, columns = [\"seller_id\",\"revenue\",\"rank\"])\n",
    "df = df.head()\n",
    "sns.barplot(x = \"seller_id\", y = \"revenue\",data = df)\n",
    "plt.xticks(rotation = 45)\n",
    "plt.show()"
   ]
  },
  {
   "cell_type": "markdown",
   "id": "5e651022-feb7-4f2e-9868-a7bc5709350a",
   "metadata": {},
   "source": [
    "### 11. Calculate the moving average of order values for each customer over their order history.\n"
   ]
  },
  {
   "cell_type": "code",
   "execution_count": 238,
   "id": "d58726e4-4d1a-4971-ad1b-ecd6c77e8479",
   "metadata": {},
   "outputs": [
    {
     "data": {
      "text/html": [
       "<div>\n",
       "<style scoped>\n",
       "    .dataframe tbody tr th:only-of-type {\n",
       "        vertical-align: middle;\n",
       "    }\n",
       "\n",
       "    .dataframe tbody tr th {\n",
       "        vertical-align: top;\n",
       "    }\n",
       "\n",
       "    .dataframe thead th {\n",
       "        text-align: right;\n",
       "    }\n",
       "</style>\n",
       "<table border=\"1\" class=\"dataframe\">\n",
       "  <thead>\n",
       "    <tr style=\"text-align: right;\">\n",
       "      <th></th>\n",
       "      <th>Customer_id</th>\n",
       "      <th>Order_purchase_timestamp</th>\n",
       "      <th>Payment</th>\n",
       "      <th>Mov_avg</th>\n",
       "    </tr>\n",
       "  </thead>\n",
       "  <tbody>\n",
       "    <tr>\n",
       "      <th>0</th>\n",
       "      <td>00012a2ce6f8dcda20d059ce98491703</td>\n",
       "      <td>2017-11-14 16:08:26</td>\n",
       "      <td>114.74</td>\n",
       "      <td>114.739998</td>\n",
       "    </tr>\n",
       "    <tr>\n",
       "      <th>1</th>\n",
       "      <td>000161a058600d5901f007fab4c27140</td>\n",
       "      <td>2017-07-16 09:40:32</td>\n",
       "      <td>67.41</td>\n",
       "      <td>67.410004</td>\n",
       "    </tr>\n",
       "    <tr>\n",
       "      <th>2</th>\n",
       "      <td>0001fd6190edaaf884bcaf3d49edf079</td>\n",
       "      <td>2017-02-28 11:06:43</td>\n",
       "      <td>195.42</td>\n",
       "      <td>195.419998</td>\n",
       "    </tr>\n",
       "    <tr>\n",
       "      <th>3</th>\n",
       "      <td>0002414f95344307404f0ace7a26f1d5</td>\n",
       "      <td>2017-08-16 13:09:20</td>\n",
       "      <td>179.35</td>\n",
       "      <td>179.350006</td>\n",
       "    </tr>\n",
       "    <tr>\n",
       "      <th>4</th>\n",
       "      <td>000379cdec625522490c315e70c7a9fb</td>\n",
       "      <td>2018-04-02 13:42:17</td>\n",
       "      <td>107.01</td>\n",
       "      <td>107.010002</td>\n",
       "    </tr>\n",
       "  </tbody>\n",
       "</table>\n",
       "</div>"
      ],
      "text/plain": [
       "                        Customer_id Order_purchase_timestamp  Payment  \\\n",
       "0  00012a2ce6f8dcda20d059ce98491703      2017-11-14 16:08:26   114.74   \n",
       "1  000161a058600d5901f007fab4c27140      2017-07-16 09:40:32    67.41   \n",
       "2  0001fd6190edaaf884bcaf3d49edf079      2017-02-28 11:06:43   195.42   \n",
       "3  0002414f95344307404f0ace7a26f1d5      2017-08-16 13:09:20   179.35   \n",
       "4  000379cdec625522490c315e70c7a9fb      2018-04-02 13:42:17   107.01   \n",
       "\n",
       "      Mov_avg  \n",
       "0  114.739998  \n",
       "1   67.410004  \n",
       "2  195.419998  \n",
       "3  179.350006  \n",
       "4  107.010002  "
      ]
     },
     "execution_count": 238,
     "metadata": {},
     "output_type": "execute_result"
    }
   ],
   "source": [
    "query = \"\"\"select customer_id, order_purchase_timestamp, payment,\n",
    "avg(payment) over(partition by customer_id order by order_purchase_timestamp\n",
    "rows between 2 preceding and current row) as  mov_avg\n",
    "from\n",
    "(select orders.customer_id, orders.order_purchase_timestamp,\n",
    "payments.payment_value as payment\n",
    "from payments join orders\n",
    "on payments.order_id = orders.order_id) as a;\n",
    "\n",
    "\n",
    "\"\"\"\n",
    "\n",
    "cur.execute(query)\n",
    "\n",
    "data = cur.fetchall()\n",
    "\n",
    "df = pd.DataFrame(data,columns = [\"Customer_id\", \"Order_purchase_timestamp\",\"Payment\",\"Mov_avg\"])\n",
    "df.head()"
   ]
  },
  {
   "cell_type": "markdown",
   "id": "3d9fefa7-52b9-4f69-a306-b2b46dff2493",
   "metadata": {},
   "source": [
    "### 12. Calculate the cumulative sales per month for each year."
   ]
  },
  {
   "cell_type": "code",
   "execution_count": 240,
   "id": "e1e3f19a-b936-49b7-895e-67082c505ebc",
   "metadata": {},
   "outputs": [
    {
     "data": {
      "text/html": [
       "<div>\n",
       "<style scoped>\n",
       "    .dataframe tbody tr th:only-of-type {\n",
       "        vertical-align: middle;\n",
       "    }\n",
       "\n",
       "    .dataframe tbody tr th {\n",
       "        vertical-align: top;\n",
       "    }\n",
       "\n",
       "    .dataframe thead th {\n",
       "        text-align: right;\n",
       "    }\n",
       "</style>\n",
       "<table border=\"1\" class=\"dataframe\">\n",
       "  <thead>\n",
       "    <tr style=\"text-align: right;\">\n",
       "      <th></th>\n",
       "      <th>0</th>\n",
       "      <th>1</th>\n",
       "      <th>2</th>\n",
       "      <th>3</th>\n",
       "    </tr>\n",
       "  </thead>\n",
       "  <tbody>\n",
       "    <tr>\n",
       "      <th>0</th>\n",
       "      <td>2016</td>\n",
       "      <td>9</td>\n",
       "      <td>252.24</td>\n",
       "      <td>252.24</td>\n",
       "    </tr>\n",
       "    <tr>\n",
       "      <th>1</th>\n",
       "      <td>2016</td>\n",
       "      <td>10</td>\n",
       "      <td>59090.48</td>\n",
       "      <td>59342.72</td>\n",
       "    </tr>\n",
       "    <tr>\n",
       "      <th>2</th>\n",
       "      <td>2016</td>\n",
       "      <td>12</td>\n",
       "      <td>19.62</td>\n",
       "      <td>59362.34</td>\n",
       "    </tr>\n",
       "    <tr>\n",
       "      <th>3</th>\n",
       "      <td>2017</td>\n",
       "      <td>1</td>\n",
       "      <td>138488.04</td>\n",
       "      <td>197850.38</td>\n",
       "    </tr>\n",
       "    <tr>\n",
       "      <th>4</th>\n",
       "      <td>2017</td>\n",
       "      <td>2</td>\n",
       "      <td>291908.01</td>\n",
       "      <td>489758.39</td>\n",
       "    </tr>\n",
       "  </tbody>\n",
       "</table>\n",
       "</div>"
      ],
      "text/plain": [
       "      0   1          2          3\n",
       "0  2016   9     252.24     252.24\n",
       "1  2016  10   59090.48   59342.72\n",
       "2  2016  12      19.62   59362.34\n",
       "3  2017   1  138488.04  197850.38\n",
       "4  2017   2  291908.01  489758.39"
      ]
     },
     "execution_count": 240,
     "metadata": {},
     "output_type": "execute_result"
    }
   ],
   "source": [
    "query = \"\"\"select years, months, payment, sum(payment)\n",
    "over(order by years, months) cumulative_sales from\n",
    "(select year(orders.order_purchase_timestamp) as years,\n",
    "month(orders.order_purchase_timestamp) as months,\n",
    "round(sum(payments.payment_value),2) as payment from orders join payments\n",
    "on orders.order_id = payments.order_id\n",
    "group by years, months order by years, months) as a;\n",
    "\n",
    "\n",
    "\"\"\"\n",
    "\n",
    "cur.execute(query)\n",
    "\n",
    "data = cur.fetchall()\n",
    "df = pd.DataFrame(data)\n",
    "df.head()"
   ]
  },
  {
   "cell_type": "markdown",
   "id": "3d3883cd-5c6b-41ba-b109-d2a940872be2",
   "metadata": {},
   "source": [
    "### 13. Calculate the year-over-year growth rate of total sales."
   ]
  },
  {
   "cell_type": "code",
   "execution_count": 271,
   "id": "7b5daea5-8954-4f9b-ad12-f8ecef964d86",
   "metadata": {},
   "outputs": [
    {
     "data": {
      "text/html": [
       "<div>\n",
       "<style scoped>\n",
       "    .dataframe tbody tr th:only-of-type {\n",
       "        vertical-align: middle;\n",
       "    }\n",
       "\n",
       "    .dataframe tbody tr th {\n",
       "        vertical-align: top;\n",
       "    }\n",
       "\n",
       "    .dataframe thead th {\n",
       "        text-align: right;\n",
       "    }\n",
       "</style>\n",
       "<table border=\"1\" class=\"dataframe\">\n",
       "  <thead>\n",
       "    <tr style=\"text-align: right;\">\n",
       "      <th></th>\n",
       "      <th>years</th>\n",
       "      <th>yoy % growth</th>\n",
       "    </tr>\n",
       "  </thead>\n",
       "  <tbody>\n",
       "    <tr>\n",
       "      <th>0</th>\n",
       "      <td>2016</td>\n",
       "      <td>NaN</td>\n",
       "    </tr>\n",
       "    <tr>\n",
       "      <th>1</th>\n",
       "      <td>2017</td>\n",
       "      <td>12112.703761</td>\n",
       "    </tr>\n",
       "    <tr>\n",
       "      <th>2</th>\n",
       "      <td>2018</td>\n",
       "      <td>20.000924</td>\n",
       "    </tr>\n",
       "  </tbody>\n",
       "</table>\n",
       "</div>"
      ],
      "text/plain": [
       "   years  yoy % growth \n",
       "0   2016            NaN\n",
       "1   2017   12112.703761\n",
       "2   2018      20.000924"
      ]
     },
     "execution_count": 271,
     "metadata": {},
     "output_type": "execute_result"
    }
   ],
   "source": [
    "query = \"\"\"with a as(select year(orders.order_purchase_timestamp) as years,\n",
    "round(sum(payments.payment_value),2) as payment from orders join payments\n",
    "on orders.order_id = payments.order_id\n",
    "group by years order by years)\n",
    "\n",
    "select years, ((payment - lag(payment, 1) over(order by years))/ \n",
    "lag(payment, 1) over(order by years)) * 100 from a\n",
    "\"\"\"\n",
    "\n",
    "cur.execute(query)\n",
    "\n",
    "data = cur.fetchall()\n",
    "df = pd.DataFrame(data,columns =[\"years\",\"yoy % growth \"])\n",
    "df.head()"
   ]
  },
  {
   "cell_type": "markdown",
   "id": "ebdf5463-ff73-43b9-891e-853bd671a797",
   "metadata": {},
   "source": [
    "### 14. Calculate the retention rate of customers, defined as the percentage of customers who make another purchase within 6 months of their first purchase."
   ]
  },
  {
   "cell_type": "code",
   "execution_count": 278,
   "id": "49417022-9cde-441e-a37c-93ce11fa3c76",
   "metadata": {},
   "outputs": [
    {
     "data": {
      "text/html": [
       "<div>\n",
       "<style scoped>\n",
       "    .dataframe tbody tr th:only-of-type {\n",
       "        vertical-align: middle;\n",
       "    }\n",
       "\n",
       "    .dataframe tbody tr th {\n",
       "        vertical-align: top;\n",
       "    }\n",
       "\n",
       "    .dataframe thead th {\n",
       "        text-align: right;\n",
       "    }\n",
       "</style>\n",
       "<table border=\"1\" class=\"dataframe\">\n",
       "  <thead>\n",
       "    <tr style=\"text-align: right;\">\n",
       "      <th></th>\n",
       "      <th>0</th>\n",
       "    </tr>\n",
       "  </thead>\n",
       "  <tbody>\n",
       "    <tr>\n",
       "      <th>0</th>\n",
       "      <td>None</td>\n",
       "    </tr>\n",
       "  </tbody>\n",
       "</table>\n",
       "</div>"
      ],
      "text/plain": [
       "      0\n",
       "0  None"
      ]
     },
     "execution_count": 278,
     "metadata": {},
     "output_type": "execute_result"
    }
   ],
   "source": [
    "query = \"\"\"with a as (select customers.customer_id,\n",
    "min(orders.order_purchase_timestamp) first_order\n",
    "from customers join orders\n",
    "on customers.customer_id = orders.customer_id\n",
    "group by customers.customer_id),\n",
    "\n",
    "b as(select a.customer_id, count(distinct orders.order_purchase_timestamp) next_order\n",
    "from a join orders\n",
    "on orders.customer_id = a.customer_id\n",
    "and orders.order_purchase_timestamp > first_order\n",
    "and orders.order_purchase_timestamp < date_add(first_order, interval 6 month)\n",
    "group by a.customer_id)\n",
    "\n",
    "select 100 * (count(distinct a.customer_id) / count(distinct(b.customer_id)) )\n",
    "from a left join b\n",
    "on a.customer_id = b.customer_id;\n",
    "\"\"\"\n",
    "\n",
    "cur.execute(query)\n",
    "\n",
    "data = cur.fetchall()\n",
    "df = pd.DataFrame(data)\n",
    "df.head()"
   ]
  },
  {
   "cell_type": "markdown",
   "id": "6305b00a-0ecf-4c9f-98c7-04fb6149ca4b",
   "metadata": {},
   "source": [
    "### 15. Identify the top 3 customers who spent the most money in each year."
   ]
  },
  {
   "cell_type": "code",
   "execution_count": 287,
   "id": "4febf09a-7442-40df-a43e-a76ed2a15f5f",
   "metadata": {},
   "outputs": [
    {
     "data": {
      "image/png": "[encoded data removed]",
      "text/plain": [
       "<Figure size 640x480 with 1 Axes>"
      ]
     },
     "metadata": {},
     "output_type": "display_data"
    }
   ],
   "source": [
    "query = \"\"\"select years, customer_id, payment, d_rank \n",
    "from\n",
    "(select year(orders.order_purchase_timestamp) years,\n",
    "orders.customer_id,\n",
    "sum(payments.payment_value) payment,\n",
    "dense_rank() over(partition by year(orders.order_purchase_timestamp) \n",
    "order by sum(payments.payment_value)desc) d_rank\n",
    "from orders join payments\n",
    "on payments.order_id = orders.order_id\n",
    "group by year(orders.order_purchase_timestamp),\n",
    "orders.customer_id) as a\n",
    "where d_rank <= 3;\n",
    "\"\"\"\n",
    "\n",
    "cur.execute(query)\n",
    "\n",
    "data = cur.fetchall()\n",
    "df = pd.DataFrame(data, columns = [\"years\",\"id\",\"payment\",\"rank\"])\n",
    "sns.barplot(x = \"id\", y = \"payment\", data = df, hue = \"years\")\n",
    "plt.xticks(rotation = 90)\n",
    "plt.show()"
   ]
  }
 ],
 "metadata": {
  "kernelspec": {
   "display_name": "Python [conda env:base] *",
   "language": "python",
   "name": "conda-base-py"
  },
  "language_info": {
   "codemirror_mode": {
    "name": "ipython",
    "version": 3
   },
   "file_extension": ".py",
   "mimetype": "text/x-python",
   "name": "python",
   "nbconvert_exporter": "python",
   "pygments_lexer": "ipython3",
   "version": "3.12.7"
  }
 },
 "nbformat": 4,
 "nbformat_minor": 5
}
